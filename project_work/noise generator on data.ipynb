{
 "cells": [
  {
   "cell_type": "code",
   "execution_count": 1,
   "id": "232f6fe7",
   "metadata": {},
   "outputs": [],
   "source": [
    "import numpy as np\n",
    "import matplotlib.pyplot as plt\n",
    "import random"
   ]
  },
  {
   "cell_type": "code",
   "execution_count": 14,
   "id": "3688bc07",
   "metadata": {},
   "outputs": [
    {
     "name": "stdout",
     "output_type": "stream",
     "text": [
      "100.0\n"
     ]
    }
   ],
   "source": [
    "X = np.linspace(1,100,100)\n",
    "Y = np.linspace(1,100,100)\n",
    "print(Y.max())"
   ]
  },
  {
   "cell_type": "code",
   "execution_count": 20,
   "id": "49b7ca5b",
   "metadata": {},
   "outputs": [],
   "source": [
    "def gen_noise(X, strength=1):\n",
    "    bound = int(round(X.max()))\n",
    "    noise = random.sample(range(-bound, bound), len(X))\n",
    "    for n in range(0,len(X)):\n",
    "        X[n] = X[n] + (noise[n]/100 * strength)\n",
    "    return X\n",
    "    \n"
   ]
  },
  {
   "cell_type": "code",
   "execution_count": 21,
   "id": "23180fab",
   "metadata": {},
   "outputs": [
    {
     "name": "stdout",
     "output_type": "stream",
     "text": [
      "[  5.95  -2.88   1.75   5.82   7.62   4.55   8.49   2.43  10.73  11.76\n",
      "  15.33   9.96  16.34  10.28  12.66  17.18  21.36  19.28  19.87  22.12\n",
      "  19.21  26.76  20.79  26.24  27.28  20.8   30.64  26.32  25.84  26.38\n",
      "  35.08  30.61  28.34  39.32  38.24  38.29  37.12  34.75  34.05  38.06\n",
      "  42.49  45.7   42.18  47.25  41.06  47.65  46.07  53.4   47.56  50.13\n",
      "  51.02  54.72  55.29  54.84  56.14  55.82  57.71  58.85  58.95  59.99\n",
      "  66.61  59.79  58.77  60.5   66.34  66.36  70.28  66.29  72.26  66.01\n",
      "  73.46  69.13  74.97  72.43  74.47  76.4   77.63  82.02  75.71  83.61\n",
      "  77.15  79.96  85.71  86.2   79.89  88.72  87.5   87.43  91.65  90.01\n",
      "  93.79  93.87  92.66  94.64  95.69  97.46  97.    95.08 103.4  101.27]\n"
     ]
    }
   ],
   "source": [
    "y_noisy = gen_noise(Y, 5)\n",
    "print(y_noisy)"
   ]
  },
  {
   "cell_type": "code",
   "execution_count": null,
   "id": "ed2033cf",
   "metadata": {},
   "outputs": [],
   "source": []
  }
 ],
 "metadata": {
  "kernelspec": {
   "display_name": "Python 3 (ipykernel)",
   "language": "python",
   "name": "python3"
  },
  "language_info": {
   "codemirror_mode": {
    "name": "ipython",
    "version": 3
   },
   "file_extension": ".py",
   "mimetype": "text/x-python",
   "name": "python",
   "nbconvert_exporter": "python",
   "pygments_lexer": "ipython3",
   "version": "3.11.5"
  }
 },
 "nbformat": 4,
 "nbformat_minor": 5
}
